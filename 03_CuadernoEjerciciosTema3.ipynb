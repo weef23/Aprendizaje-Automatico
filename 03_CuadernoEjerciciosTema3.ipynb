{
 "cells": [
  {
   "cell_type": "markdown",
   "id": "9c98372b",
   "metadata": {},
   "source": [
    "# Tema 3: Evaluación de algortimos de clasificación\n",
    "## Cuaderno de ejercicios"
   ]
  },
  {
   "cell_type": "markdown",
   "id": "f2fed516",
   "metadata": {},
   "source": [
    "**Ejercicio 1**\n",
    "\n",
    "Supongamos que hemos utilizado un clasificador, por ejemplo, Naive Bayes, para clasificar documentos con respecto al sentimiento. Las clases son Pos (positivo), Neg (negativo) y Neu (neutro). Probamos nuestro clasificador en 10 documentos para los que conocemos su _gold standar_ (clase real). La prueba tiene los siguientes resultados:\n",
    "\n",
    "| Documento | Clase Real | Clase predicha |\n",
    "| ------------- | ------------- | ------------- |\n",
    "| d1  | Pos  | Pos |\n",
    "| d2  | Pos  | Pos |\n",
    "| d3  | Pos  | Pos |\n",
    "| d4  | Pos  | Neu |\n",
    "| d5  | Neg  | Neg |\n",
    "| d6  | Neg  | Neu |\n",
    "| d7  | Neg  | Neg |\n",
    "| d8  | Neu  | Pos |\n",
    "| d9  | Neu  | Neu |\n",
    "| d10  | Neu  | Neu |\n",
    "\n",
    "Calcular: precision, recall, accuracy y F1 para estos resultados de clasificación para las tres clases."
   ]
  },
  {
   "cell_type": "code",
   "execution_count": 30,
   "metadata": {},
   "outputs": [],
   "source": [
    "import pandas as pd\n",
    "import matplotlib.pyplot as plt\n",
    "import numpy as np\n",
    "from sklearn import metrics"
   ]
  },
  {
   "cell_type": "code",
   "execution_count": 2,
   "id": "704cea83",
   "metadata": {},
   "outputs": [
    {
     "data": {
      "text/html": [
       "<div>\n",
       "<style scoped>\n",
       "    .dataframe tbody tr th:only-of-type {\n",
       "        vertical-align: middle;\n",
       "    }\n",
       "\n",
       "    .dataframe tbody tr th {\n",
       "        vertical-align: top;\n",
       "    }\n",
       "\n",
       "    .dataframe thead th {\n",
       "        text-align: right;\n",
       "    }\n",
       "</style>\n",
       "<table border=\"1\" class=\"dataframe\">\n",
       "  <thead>\n",
       "    <tr style=\"text-align: right;\">\n",
       "      <th></th>\n",
       "      <th>Documento</th>\n",
       "      <th>Real</th>\n",
       "      <th>Predicho</th>\n",
       "    </tr>\n",
       "  </thead>\n",
       "  <tbody>\n",
       "    <tr>\n",
       "      <th>0</th>\n",
       "      <td>d1</td>\n",
       "      <td>Pos</td>\n",
       "      <td>Pos</td>\n",
       "    </tr>\n",
       "    <tr>\n",
       "      <th>1</th>\n",
       "      <td>d2</td>\n",
       "      <td>Pos</td>\n",
       "      <td>Pos</td>\n",
       "    </tr>\n",
       "    <tr>\n",
       "      <th>2</th>\n",
       "      <td>d3</td>\n",
       "      <td>Pos</td>\n",
       "      <td>Pos</td>\n",
       "    </tr>\n",
       "    <tr>\n",
       "      <th>3</th>\n",
       "      <td>d4</td>\n",
       "      <td>Pos</td>\n",
       "      <td>Neu</td>\n",
       "    </tr>\n",
       "    <tr>\n",
       "      <th>4</th>\n",
       "      <td>d5</td>\n",
       "      <td>Neg</td>\n",
       "      <td>Neg</td>\n",
       "    </tr>\n",
       "  </tbody>\n",
       "</table>\n",
       "</div>"
      ],
      "text/plain": [
       "  Documento Real Predicho\n",
       "0        d1  Pos      Pos\n",
       "1        d2  Pos      Pos\n",
       "2        d3  Pos      Pos\n",
       "3        d4  Pos      Neu\n",
       "4        d5  Neg      Neg"
      ]
     },
     "execution_count": 2,
     "metadata": {},
     "output_type": "execute_result"
    }
   ],
   "source": [
    "Documento = ['d1','d2','d3','d4','d5','d6','d7','d8','d9','d10']\n",
    "Real = ['Pos', 'Pos', 'Pos', 'Pos', 'Neg', 'Neg', 'Neg', 'Neu', 'Neu', 'Neu']\n",
    "Predicho = ['Pos', 'Pos', 'Pos', 'Neu', 'Neg', 'Neu', 'Neg', 'Pos', 'Neu', 'Neu']\n",
    "\n",
    "datos = pd.DataFrame({\"Documento\":Documento, \"Real\":Real, \"Predicho\":Predicho})\n",
    "datos.head(5)"
   ]
  },
  {
   "cell_type": "code",
   "execution_count": 27,
   "metadata": {},
   "outputs": [
    {
     "data": {
      "text/plain": [
       "array([[3, 0, 1],\n",
       "       [0, 2, 1],\n",
       "       [1, 0, 2]], dtype=int64)"
      ]
     },
     "execution_count": 27,
     "metadata": {},
     "output_type": "execute_result"
    }
   ],
   "source": [
    "## Matriz de confusion\n",
    "from sklearn.metrics import confusion_matrix\n",
    "cm = confusion_matrix(Real, Predicho, labels=[\"Pos\", \"Neg\", \"Neu\"])\n",
    "cm"
   ]
  },
  {
   "cell_type": "code",
   "execution_count": 52,
   "metadata": {},
   "outputs": [
    {
     "data": {
      "image/png": "[encoded data removed]",
      "text/plain": [
       "<Figure size 640x480 with 2 Axes>"
      ]
     },
     "metadata": {},
     "output_type": "display_data"
    }
   ],
   "source": [
    "## Graficamos la Matriz de confusion \n",
    "confusion_matrix = metrics.confusion_matrix(Real, Predicho)\n",
    "cm_display = metrics.ConfusionMatrixDisplay(confusion_matrix = confusion_matrix)\n",
    "cm_display.plot()\n",
    "plt.show()"
   ]
  },
  {
   "cell_type": "code",
   "execution_count": 76,
   "metadata": {},
   "outputs": [
    {
     "name": "stdout",
     "output_type": "stream",
     "text": [
      "La matriz de confusion es: \n",
      " [[3 0 1]\n",
      " [0 2 1]\n",
      " [1 0 2]]\n",
      "El Accuracy es : 0.7\n",
      "La precision por otro lado es : \n",
      " [0.75 1.   0.5 ]\n",
      "EL recall por otro lado es : \n",
      " [0.75       0.66666667 0.66666667]\n",
      "EL f1-score por otro lado es : \n",
      " [0.75       0.8        0.57142857]\n"
     ]
    }
   ],
   "source": [
    "### Para obtener Metricas como el F1-Score, La presicion, Recall y el Accuracy se puede obtener usuando las formulas o las funciones de Pytho.\n",
    "### Primero con las formulas usando la propia matriz de confusion\n",
    "print(f\"La matriz de confusion es: \\n {cm}\")\n",
    "\n",
    "## El accurracy para matriz multiclase es la suma de la diagonal entre todos los elementos de la matriz\n",
    "accuracy = sum(np.diag(cm))/np.sum(cm)\n",
    "print(f\"El Accuracy es : {accuracy}\")\n",
    "\n",
    "### Para calcular la precision por otro lado usamos \n",
    "precision = np.diag(cm) / np.sum(cm,axis=0)\n",
    "print(f\"La precision por otro lado es : \\n {precision}\")\n",
    "### El recall es \n",
    "recall = (np.diag(cm) / np.sum(cm,axis=1))\n",
    "print(f\"EL recall por otro lado es : \\n {recall}\")\n",
    "\n",
    "f1_score = 2*precision*recall/(precision+recall)\n",
    "print(f\"EL f1-score por otro lado es : \\n {f1_score}\")\n"
   ]
  },
  {
   "cell_type": "code",
   "execution_count": 77,
   "metadata": {},
   "outputs": [
    {
     "name": "stdout",
     "output_type": "stream",
     "text": [
      "El Accuracy es : 0.7\n",
      "La precision por otro lado es : \n",
      " [1.   0.5  0.75]\n",
      "EL recall por otro lado es : \n",
      " [0.66666667 0.66666667 0.75      ]\n",
      "EL f1-score por otro lado es : \n",
      " [0.8        0.57142857 0.75      ]\n"
     ]
    }
   ],
   "source": [
    "### Otra forma de realizarlo es usando las mismas funciones de sclearn para clacularlas\n",
    "from sklearn.metrics import accuracy_score\n",
    "from sklearn.metrics import precision_score\n",
    "from sklearn.metrics import recall_score\n",
    "from sklearn.metrics import f1_score\n",
    "\n",
    "\n",
    "accuracy = accuracy_score(Real, Predicho)\n",
    "print(f\"El Accuracy es : {accuracy}\")\n",
    "\n",
    "precision = precision_score(Real, Predicho, average=None)\n",
    "print(f\"La precision por otro lado es : \\n {precision}\")\n",
    "\n",
    "recall = recall_score(Real, Predicho, average=None )\n",
    "print(f\"EL recall por otro lado es : \\n {recall}\")\n",
    "\n",
    "f1_score = f1_score(Real, Predicho, average=None)\n",
    "print(f\"EL f1-score por otro lado es : \\n {f1_score}\")"
   ]
  },
  {
   "cell_type": "markdown",
   "metadata": {},
   "source": [
    "**Ejercicio 2**\n",
    "\n",
    "Se evaluó un clasificador binario utilizando un conjunto de 1000 ejemplos de prueba (test) en los que el 50 % de todos los ejemplos son negativos. El clasificador tiene 60 % de sensitivity y 70 % de accuracy. Escribe la matriz de confusión."
   ]
  },
  {
   "cell_type": "code",
   "execution_count": null,
   "metadata": {},
   "outputs": [],
   "source": [
    "n = 1000\n",
    "positivo = 500\n",
    "negativo = 500\n",
    "sensibilidad =0.6\n",
    "accuracy = 0.7"
   ]
  },
  {
   "cell_type": "markdown",
   "metadata": {},
   "source": [
    "El problema nos esta diciendo que tiene un 0.6 de sensibilidad y la sensibilidad es:\n",
    "\n",
    "Sens = TP/TP + FN, el TP son todos los elementos de la clase positiva que marco bien y el FN son todos los elementos de la clase positiva que marco como negativo en total hay 500 observaciones positvas lo que significa\n",
    "\n",
    "que  TP + FN = 500  y  TP/500 = 0.6 lo que implica que de estos 500 el marco correctamente 300 y 200 los marco mal\n",
    "\n",
    "ahora  TP + TN + FP + FN es igual 1000 \n",
    "\n",
    "dice que tiente un accuracy de 0.7 y el acuracy es \n",
    "\n",
    "accuraccy = TP + TN/ TP + TN + FP + FN, ya tenemos el TP y el FN \n",
    "\n",
    "0.7 = 300 + TN /1000, recordemos que TP + TN + FP + FN es 1000, por lo tanto TN = 0.7 * 1000 - 300 por lo tanto TN = 400 y como TN + FP = 500 entonces FP es igual a 100 la matriz de confusion queda de la siguiente forma."
   ]
  },
  {
   "cell_type": "code",
   "execution_count": 79,
   "metadata": {},
   "outputs": [
    {
     "data": {
      "text/plain": [
       "array([[400, 100],\n",
       "       [300, 200]])"
      ]
     },
     "execution_count": 79,
     "metadata": {},
     "output_type": "execute_result"
    }
   ],
   "source": [
    "mc = np.array([[400, 100], [300, 200]])\n",
    "mc"
   ]
  },
  {
   "cell_type": "markdown",
   "metadata": {},
   "source": [
    "**Ejercicio 3**\n",
    "\n",
    "Utilizando la matriz de confusión creada en el ejercicio anterior, calcula la precisión del clasificador, la medida F1 y\n",
    "especificidad."
   ]
  },
  {
   "cell_type": "code",
   "execution_count": 84,
   "metadata": {},
   "outputs": [
    {
     "name": "stdout",
     "output_type": "stream",
     "text": [
      "El Accuracy es : 0.7\n",
      "EL recall por otro lado es : \n",
      " 0.6\n",
      "La precision por otro lado es : \n",
      " 0.75\n",
      "EL f1-score por otro lado es : \n",
      " 0.6666666666666665\n"
     ]
    }
   ],
   "source": [
    "TP = 300\n",
    "FN = 200\n",
    "TN = 400\n",
    "FP = 100\n",
    "\n",
    "accuracy = (TP + TN) /(TP+ FN + TN + FP)\n",
    "print(f\"El Accuracy es : {accuracy}\")\n",
    "\n",
    "recall = TP/(TP+FN)\n",
    "print(f\"EL recall por otro lado es : \\n {recall}\")\n",
    "\n",
    "precision = TP/(TP+FP)\n",
    "print(f\"La precision por otro lado es : \\n {precision}\")\n",
    "\n",
    "f1_score = 2*precision*recall/(precision+recall)\n",
    "print(f\"EL f1-score por otro lado es : \\n {f1_score}\")"
   ]
  }
 ],
 "metadata": {
  "kernelspec": {
   "display_name": "Python 3",
   "language": "python",
   "name": "python3"
  },
  "language_info": {
   "codemirror_mode": {
    "name": "ipython",
    "version": 3
   },
   "file_extension": ".py",
   "mimetype": "text/x-python",
   "name": "python",
   "nbconvert_exporter": "python",
   "pygments_lexer": "ipython3",
   "version": "3.8.18"
  }
 },
 "nbformat": 4,
 "nbformat_minor": 5
}
